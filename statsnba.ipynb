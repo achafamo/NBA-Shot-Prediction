{
 "cells": [
  {
   "cell_type": "code",
   "execution_count": 1,
   "metadata": {
    "collapsed": false
   },
   "outputs": [
    {
     "ename": "ImportError",
     "evalue": "No module named statsnba",
     "output_type": "error",
     "traceback": [
      "\u001b[0;31m---------------------------------------------------------------------------\u001b[0m",
      "\u001b[0;31mImportError\u001b[0m                               Traceback (most recent call last)",
      "\u001b[0;32m<ipython-input-1-809703807b76>\u001b[0m in \u001b[0;36m<module>\u001b[0;34m()\u001b[0m\n\u001b[1;32m      2\u001b[0m \u001b[0mget_ipython\u001b[0m\u001b[0;34m(\u001b[0m\u001b[0;34m)\u001b[0m\u001b[0;34m.\u001b[0m\u001b[0mmagic\u001b[0m\u001b[0;34m(\u001b[0m\u001b[0;34mu'autoreload 2'\u001b[0m\u001b[0;34m)\u001b[0m\u001b[0;34m\u001b[0m\u001b[0m\n\u001b[1;32m      3\u001b[0m \u001b[0;34m\u001b[0m\u001b[0m\n\u001b[0;32m----> 4\u001b[0;31m \u001b[0;32mfrom\u001b[0m \u001b[0mstatsnba\u001b[0m \u001b[0;32mimport\u001b[0m \u001b[0mGame\u001b[0m\u001b[0;34m,\u001b[0m \u001b[0mApi\u001b[0m\u001b[0;34m\u001b[0m\u001b[0m\n\u001b[0m\u001b[1;32m      5\u001b[0m \u001b[0;32mimport\u001b[0m \u001b[0mrequests_cache\u001b[0m\u001b[0;34m\u001b[0m\u001b[0m\n\u001b[1;32m      6\u001b[0m \u001b[0;32mimport\u001b[0m \u001b[0mpandas\u001b[0m \u001b[0;32mas\u001b[0m \u001b[0mpd\u001b[0m\u001b[0;34m\u001b[0m\u001b[0m\n",
      "\u001b[0;31mImportError\u001b[0m: No module named statsnba"
     ]
    }
   ],
   "source": [
    "%load_ext autoreload\n",
    "%autoreload 2\n",
    "\n",
    "from statsnba import Game, Api\n",
    "import requests_cache\n",
    "import pandas as pd\n",
    "pd.options.display.max_columns = 999\n",
    "\n",
    "requests_cache.install_cache('test_cache')"
   ]
  },
  {
   "cell_type": "code",
   "execution_count": null,
   "metadata": {
    "collapsed": false
   },
   "outputs": [],
   "source": [
    "api = Api()\n",
    "game_ids = api.GetSeasonGameIDs('2009-10', 'Regular Season')\n",
    "game_ids\n",
    "sample_game_id = game_ids[0]"
   ]
  },
  {
   "cell_type": "code",
   "execution_count": null,
   "metadata": {
    "collapsed": false
   },
   "outputs": [],
   "source": [
    "sample_game = Game(sample_game_id)\n",
    "sample_game"
   ]
  },
  {
   "cell_type": "code",
   "execution_count": null,
   "metadata": {
    "collapsed": true
   },
   "outputs": [],
   "source": [
    "def matchup_to_df(matchups):\n",
    "    lst = []\n",
    "    for matchup in sample_game.Matchups:\n",
    "        matchup_dict = {}\n",
    "        _home_players = sorted([p.PlayerName for p in matchup.HomePlayers])\n",
    "        _away_players = sorted([p.PlayerName for p in matchup.AwayPlayers])\n",
    "        home_players = dict(zip(['h{}'.format(i) for i in range(5)], _home_players))\n",
    "        away_players = dict(zip(['a{}'.format(i) for i in range(5)], _away_players))\n",
    "        \n",
    "        matchup_dict.update(home_players)\n",
    "        matchup_dict.update(away_players)        \n",
    "        home_boxscore = matchup.Boxscore.HomeTeamStats\n",
    "        away_boxscore = matchup.Boxscore.AwayTeamStats\n",
    "        \n",
    "        matchup_dict.update({'home_{}'.format(k):v for k,v in home_boxscore.items()})\n",
    "        matchup_dict.update({'away_{}'.format(k):v for k,v in away_boxscore.items()})\n",
    "        lst.append(matchup_dict)\n",
    "    return lst\n",
    "\n",
    "df = pd.DataFrame(matchup_to_df(sample_game.Matchups))\n",
    "print 'The first two rows of the matchups and their stats'\n",
    "df.head(2)"
   ]
  }
 ],
 "metadata": {
  "kernelspec": {
   "display_name": "Python 2",
   "language": "python",
   "name": "python2"
  },
  "language_info": {
   "codemirror_mode": {
    "name": "ipython",
    "version": 2
   },
   "file_extension": ".py",
   "mimetype": "text/x-python",
   "name": "python",
   "nbconvert_exporter": "python",
   "pygments_lexer": "ipython2",
   "version": "2.7.12"
  }
 },
 "nbformat": 4,
 "nbformat_minor": 2
}
